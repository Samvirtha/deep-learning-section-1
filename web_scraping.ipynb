{
  "nbformat": 4,
  "nbformat_minor": 0,
  "metadata": {
    "colab": {
      "provenance": [],
      "authorship_tag": "ABX9TyOMTlW6oWETY3bbcx4Qh/a5",
      "include_colab_link": true
    },
    "kernelspec": {
      "name": "python3",
      "display_name": "Python 3"
    },
    "language_info": {
      "name": "python"
    }
  },
  "cells": [
    {
      "cell_type": "markdown",
      "metadata": {
        "id": "view-in-github",
        "colab_type": "text"
      },
      "source": [
        "<a href=\"https://colab.research.google.com/github/Samvirtha/deep-learning-section1.1/blob/main/web_scraping.ipynb\" target=\"_parent\"><img src=\"https://colab.research.google.com/assets/colab-badge.svg\" alt=\"Open In Colab\"/></a>"
      ]
    },
    {
      "cell_type": "code",
      "source": [
        "import csv\n",
        "import re\n",
        "import pandas as pd\n",
        "import os\n",
        "from google.colab import files\n",
        "from bs4 import BeautifulSoup\n",
        "import requests\n",
        "\n",
        "# Define the URL of the wikihow page to scrape\n",
        "url = 'https://www.wikihow.com/Special:Randomizer'\n",
        "\n",
        "# Send an HTTP request to the URL and receive the HTML content\n",
        "response = requests.get(url)\n",
        "html_content = response.content\n",
        "\n",
        "# Parse the HTML content using BeautifulSoup\n",
        "soup = BeautifulSoup(html_content, 'html.parser')\n",
        "\n",
        "# Extract the article title\n",
        "article_title = soup.find('title').text.strip()\n",
        "\n",
        "# Initialize lists for subheadings and paragraphs\n",
        "subheadings = []\n",
        "paragraphs = []\n",
        "\n",
        "# Extract the subheadings and paragraphs using the appropriate HTML tags\n",
        "steps = soup.find_all('div', {'class': 'step'})\n",
        "for step in steps:\n",
        "    subheading_element = step.find('b')\n",
        "    if subheading_element is not None:\n",
        "        subheading_text = subheading_element.text.strip().replace('\\n', '')\n",
        "        subheading_text = subheading_text.encode('ascii', errors='ignore').decode()\n",
        "        subheading_text = re.sub(r\",\", '', subheading_text)  # Corrected replacement string\n",
        "        print(subheading_text)\n",
        "        subheadings.append(subheading_text)\n",
        "\n",
        "        # Remove titles and extra links\n",
        "        subheading_element.extract()\n",
        "\n",
        "    for span_tag in step.find_all('span'):\n",
        "        span_tag.extract()\n",
        "\n",
        "    paragraph_text = step.text.strip().replace('\\n', '').replace('','')\n",
        "    paragraph_text = paragraph_text.encode('ascii', errors='ignore').decode()\n",
        "    paragraph_text = re.sub(r\",\", '', paragraph_text)  # Corrected replacement string\n",
        "    print(paragraph_text)\n",
        "    paragraphs.append(paragraph_text)\n",
        "\n",
        "# Save the extracted data to a CSV file\n",
        "if len(subheadings):\n",
        "    file_path = '/content/wikihow.csv'\n",
        "    with open(file_path, mode='a', newline='', encoding='utf-8') as csv_file:\n",
        "        writer = csv.writer(csv_file)\n",
        "        for i in range(len(subheadings)):\n",
        "            writer.writerow([article_title, subheadings[i], paragraphs[i]])\n",
        "\n",
        "    # List files in /content/ to verify\n",
        "    print(os.listdir('/content/'))\n",
        "\n",
        "    # Download the CSV file\n",
        "    files.download(file_path)\n",
        "else:\n",
        "    print(\"No subheadings found.\")\n"
      ],
      "metadata": {
        "colab": {
          "base_uri": "https://localhost:8080/",
          "height": 644
        },
        "id": "csTslh5UFBIM",
        "outputId": "15e559f0-a58a-412a-abcd-02d5637173bc"
      },
      "execution_count": 42,
      "outputs": [
        {
          "output_type": "stream",
          "name": "stdout",
          "text": [
            "Get diagnosed by a medical doctor.\n",
            "If youre experiencing any of the symptoms of spongiotic dermatitis its important to get diagnosed with the condition by a medical doctor. She will help you take steps to treat the condition either through prevention and home remedies or medication.\n",
            "Identify the symptoms of spongiotic dermatitis.\n",
            "The symptoms of spongiotic dermatitis vary widely from person to person but there are some general signs you can look for to help identify the condition. Knowing these signs may make it easier to relieve your symptoms at home. Typical symptoms of spongiotic dermatitis include:[1]severe itching especially at nightred to brownish-gray patches on the skinsmall raised bumps that may contain fluid and crust over when scratchedthickened cracked dry and scaly skinraw sensitive and swollen skin that occurs as a result of scratchingThe most common place for spongiotic dermatitis to occur is on the chest stomach and buttocks. It can spread from these areas to other parts of the body.\n",
            "Be aware of possible irritants and risk factors.\n",
            "There are some irritants and risk factors that can make you more prone to a flare-up of spongiotic dermatitis. Being aware of these will help you take the proper steps to prevent the condition.[2]Working with metals such as nickel solvents or cleaning supplies can increase your risk of spongiotic dermatitis.Certain health conditions including congestive heart failure Parkinson's disease and HIV/AIDS can also make you more prone to spongiotic dermatitis.\\Spongiotic dermatitis can flare up if you have sensitive skin and/ or use very harsh and strong soaps that can cause an allergic reaction on the skin.\n",
            "Identify what triggers your spongiotic dermatitis.\n",
            "This skin condition often flares up because of a specific irritant. Knowing what triggers your spongiotic dermatitis can help you prevent and relieve it.The trigger could be an allergen food allergy cosmetic environmental factor insect bite or harsh soap or detergent.If you suspect a specific trigger try to limit your exposure to it and see if it relieves your symptoms.Certain external factors can worsen spongiotic dermatitis including dry skin from taking baths or showers that are too hot stress sweat wearing wool exposure to tobacco smoke and pollution.Certain foods can also worsen spongiotic dermatitis including eggs milk peanuts soybeans fish and wheat.Use mild or hypoallergenic soaps and laundry detergents. These contain fewer harmful chemicals that can irritate your skin. Rinse clothes twice after washing to ensure that the detergent is well removed.Any product marked hypoallergenic has been tested for sensitive skin and will likely not irritate your skin.\n",
            "Dont scratch.\n",
            "No matter what treatment you seek for spongiotic dermatitis do not scratch the patches on your skin. Scratching the rash can open any sores you may have and cause further problems including infection.[3]If you cannot avoid scratching the irritated areas occasionally apply bandages to any areas seriously affected by spongiotic dermatitis. This will limit exposure to irritants and keep you from scratching. Do not cover the areas frequently as this may actually cause more irritation.\n",
            "Keep your skin well hydrated to reduce irritation.\n",
            "Maintaining your skins natural hydration will prevent dryness and help prevent further irritation. You can help keep your skin hydrated by different means including moisturizing avoiding temperature extremes and using a humidifier.[4]Use a gentle cleanser made for sensitive skin when you bathe or shower. Recommended choices include Dove Aveeno and Cetaphil. Don't use overly hot water as this can dry out and irritate skin.Apply moisturizer to your skin at least twice a day. The best time to apply is after a shower or bath while your skin is still damp. Later in the day consider using an oil to moisturize your skin.Make sure to use unscented and uncolored moisturizers that will not irritate your skin. If you aren't sure what moisturizer is best for your skin ask your doctor or pharmacist. Use creams or ointments as they are usually thicker and more effective than lotions and they're usually less irritating to the skin.Taking a 10-15 minute bath in warm water sprinkled with baking soda uncooked oatmeal or colloidal oatmeal will help your skin stay moisturized. Make sure to moisturize your skin with a cream or oil after the bath.Keeping a humidifier in your home will ensure that the air is moist and wont dry out your skin.Avoid temperature extremes which can dry out skin.\n",
            "Stay hydrated by drinking water.\n",
            "Making sure that you drink enough water will help your skin stay hydrated as well. Drink at least eight glasses of water every day to help your skin retain previous moisture and prevent dehydration.\n",
            "Apply a cold compress to relieve itching and inflammation.\n",
            "The itching and inflammation from spongiotic dermatitis comes from histamine in your blood. Cold packs or compresses can help relieve itching and inflammation associated with spongiotic dermatitis by constricting blood flow and cooling the skin.Histamine is produced when an allergen enters in the body. It is involved in all of the symptoms of allergic reactions including itching and inflammation.You can place a cold compress on your rashes intermittently for 10 to 15 minutes once every 2 hours or as needed.\n",
            "Protect your skin.\n",
            "You can prevent and relieve spongiotic dermatitis by protecting your skin. Clothing bandages and even bug spray will protect your skin.Wear cool loose smooth textured clothing such as cotton or silk to keep yourself from scratching and prevent excess sweating.[5] Do not wear wool as it can irritate your skin.Wear long-sleeved shirts and long pants to keep yourself from scratching your skin and protect it from external irritants.You can also apply bug repellant to areas that do not have rashes when you go outside where you are at risk of being bitten. This will prevent insects from getting too close to your skin and causing further allergic reactions.\n",
            "Apply calamine lotion or anti-itch cream.\n",
            "Applying a calamine lotion or non-prescription anti-itch cream can relieve the symptoms of spongiotic dermatitis. You can purchase these creams at grocery and drug stores both in-store and online.A nonprescription anti-itch or hydrocortisone cream can help relieve itching. Make sure to purchase a cream with at least 1% hydrocortisone.Apply these creams to the affected area before you moisturize your skin.Follow the specific product instructions for how often you can use the cream on your skin.\n",
            "Take over-the-counter antihistamines to reduce your inflammation and itching.\n",
            "These drugs will block the histamine that causes allergic reactions and help relieve itching and skin inflammation. There are many different over-the-counter antihistamines that are available at drug and grocery stores both in store and online. Before taking any new medications consult with your doctor as some may interact with other medical conditions or current medications.Chlorpheniramine is available in 2 mg and 4 mg tablets. Adults can take 4mg every 4 to 6 hours. Dont exceed 24 mg per day.Diphenhydramine (Benadryl) is available in 25 mg and 50 mg tablets. Adults can take 25 mg every 6 hours. Dont exceed 300 mg per day.Ceterizine (Zyrtec) is available in 5 mg and 10 mg tablets. Adults can take up to 10 mg every 24 hours.These drugs (chlorpheniramine and diphenhydramine in particular) often have sedative effects so do not drive drink alcohol or operate any machinery (including driving) when taking them. Cetirizine is less likely to cause sedation but you should try it a few times to ensure it doesn't cause drowsiness before you attempt to drive or operate machinery.If you are treating a child consult your doctor or pharmacist for appropriate medications and dosages.\n",
            "Use over-the-counter corticosteroid creams to help reduce itching and inflammation.\n",
            "Corticosteroid creams can reduce inflammation thereby reducing itching and scratching. They should be applied once or twice a day on the affected area.You are advised to apply the cream in the morning after showering so that it stays on throughout the whole day.An example of a corticosteroid cream is 1% hydrocortisone cream.\n",
            "Visit your doctor if your condition worsens.\n",
            "If your blisters and rash dont go away after a week or you become very uncomfortable see your doctor. The doctor may prescribe oral medications steroid creams or light therapy to treat your spongiotic dermatitis.See your doctor if: you're so uncomfortable that it disrupts your sleep or ability to function daily your skin is painful self-care and home remedies havent worked or you suspect your skin is infected.[6]\n",
            "Use light therapy.\n",
            "A doctor may prescribe phototherapy (light therapy) to help heal spongiotic dermatitis. This very effective treatment can be as simple as limited sun exposure or may use artificial light but it does not come without risks.[7]Phototherapy exposes the skin to controlled amounts of natural sunlight or artificial ultraviolet A (UVA) and narrow band UVB. This treatment can be used alone with in conjunction with medications.Light exposure increases your risk for premature aging and skin cancer.\n",
            "Use prescription corticosteroids.\n",
            "If the itching or rash is not relieved by applying an over-the-counter topical corticosteroid your doctor may prescribe either a stronger topical or oral corticosteroid such as prednisone.[8]Oral steroids and strong topical steroids can have serious side effects when used long term. Follow your doctor's instructions and don't use these medications for longer than advised.Continue to moisturize your skin while using oral and topical corticosteroids. Not only will they keep your skin hydrated but they will help prevent flare-ups when you discontinue use of the steroids.\n",
            "Get an antibiotic prescribed to combat infection.\n",
            "In case your blisters or rash area is infected you can get an antibiotic to help make sure you remain healthy. Talk to your doctor if you see signs of infection such as redness swelling warmth or pus.The type of antibiotic your doctor prescribes may vary. Common antibiotics include erythromycin penicillin dicloxacillin clindamycin or doxycycline.[9]\n",
            "Use a calcineurin inhibitor cream to help repair the skin.\n",
            "When no other treatment works get a calcineurin inhibitor cream that will help repair your skin. These drugs which include tacrolimus  and pimecrolimus will help maintain normal skin control itching and reduce flares of spongiotic dermatitis.Calcineurin inhibitors directly affect the immune system and come with potential side effects including kidney problems high blood pressure and headaches. Serious but rare side effects include an increased risk of certain cancers.[10]These drugs are prescribed only when other treatments have failed and are approved for most people over the age of 2.[11]\n",
            "['.config', 'wikihow.csv', 'sample_data']\n"
          ]
        },
        {
          "output_type": "display_data",
          "data": {
            "text/plain": [
              "<IPython.core.display.Javascript object>"
            ],
            "application/javascript": [
              "\n",
              "    async function download(id, filename, size) {\n",
              "      if (!google.colab.kernel.accessAllowed) {\n",
              "        return;\n",
              "      }\n",
              "      const div = document.createElement('div');\n",
              "      const label = document.createElement('label');\n",
              "      label.textContent = `Downloading \"${filename}\": `;\n",
              "      div.appendChild(label);\n",
              "      const progress = document.createElement('progress');\n",
              "      progress.max = size;\n",
              "      div.appendChild(progress);\n",
              "      document.body.appendChild(div);\n",
              "\n",
              "      const buffers = [];\n",
              "      let downloaded = 0;\n",
              "\n",
              "      const channel = await google.colab.kernel.comms.open(id);\n",
              "      // Send a message to notify the kernel that we're ready.\n",
              "      channel.send({})\n",
              "\n",
              "      for await (const message of channel.messages) {\n",
              "        // Send a message to notify the kernel that we're ready.\n",
              "        channel.send({})\n",
              "        if (message.buffers) {\n",
              "          for (const buffer of message.buffers) {\n",
              "            buffers.push(buffer);\n",
              "            downloaded += buffer.byteLength;\n",
              "            progress.value = downloaded;\n",
              "          }\n",
              "        }\n",
              "      }\n",
              "      const blob = new Blob(buffers, {type: 'application/binary'});\n",
              "      const a = document.createElement('a');\n",
              "      a.href = window.URL.createObjectURL(blob);\n",
              "      a.download = filename;\n",
              "      div.appendChild(a);\n",
              "      a.click();\n",
              "      div.remove();\n",
              "    }\n",
              "  "
            ]
          },
          "metadata": {}
        },
        {
          "output_type": "display_data",
          "data": {
            "text/plain": [
              "<IPython.core.display.Javascript object>"
            ],
            "application/javascript": [
              "download(\"download_b47d9c06-253c-4abe-8bc8-cc678542d763\", \"wikihow.csv\", 35361)"
            ]
          },
          "metadata": {}
        }
      ]
    }
  ]
}